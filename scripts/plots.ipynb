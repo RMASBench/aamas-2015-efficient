{
 "metadata": {
  "name": "",
  "signature": "sha256:7bdcd1a74e8cf80b564ce33c8f93b111dc0e5f34d145431ec876f7da92b18118"
 },
 "nbformat": 3,
 "nbformat_minor": 0,
 "worksheets": [
  {
   "cells": [
    {
     "cell_type": "code",
     "collapsed": false,
     "input": [
      "import pickle\n",
      "import numpy as np\n",
      "import itertools as it\n",
      "import scipy.stats as st\n",
      "import matplotlib\n",
      "#matplotlib.use('pdf')\n",
      "import matplotlib.pyplot as plt\n",
      "matplotlib.rcParams['ps.useafm'] = True\n",
      "matplotlib.rcParams['pdf.use14corefonts'] = True\n",
      "matplotlib.rcParams['text.usetex'] = True"
     ],
     "language": "python",
     "metadata": {},
     "outputs": [],
     "prompt_number": 1
    },
    {
     "cell_type": "code",
     "collapsed": false,
     "input": [
      "results = pickle.load( open( \"results.p\", \"rb\" ) )"
     ],
     "language": "python",
     "metadata": {},
     "outputs": [],
     "prompt_number": 2
    },
    {
     "cell_type": "code",
     "collapsed": false,
     "input": [
      "graphs_path = 'graphs/'\n",
      "algokeys = ('agent.interteam', 'solver')\n",
      "algorithms = {\n",
      "    ('no', 'Greedy'): 'Greedy',\n",
      "    ('no', 'DSA'): 'DSA (noteam)',\n",
      "    ('yes', 'DSA'): 'DSA',\n",
      "    ('no', 'BinaryMaxSum'): 'BMS (noteam)',\n",
      "    ('yes', 'BinaryMaxSum'): 'BMS',\n",
      "}\n",
      "maps = ['official-2013-rblockades.xml', 'no-33-20-2013-rblockades.xml', 'no-27-15-2013-rblockades.xml', 'no-21-10-2013-rblockades.xml', 'no-15-5-2013-rblockades.xml']\n",
      "keys = ['score']"
     ],
     "language": "python",
     "metadata": {},
     "outputs": [],
     "prompt_number": 3
    },
    {
     "cell_type": "code",
     "collapsed": false,
     "input": [
      "def get_linestyles():\n",
      "    return it.cycle(lines)\n",
      "\n",
      "def get_colors():\n",
      "    return it.cycle(colors)\n",
      "\n",
      "def plot(scores, title, xlabel, xlabels):\n",
      "    margin = 0.2\n",
      "    linestyles = get_linestyles()\n",
      "    colors = get_colors()\n",
      "    means = [[np.mean((1-np.array(x))*100) for x in scores[k]] for k in anames]\n",
      "    errors = [[st.sem((1-np.array(x))*100) for x in scores[k]] for k in anames]\n",
      "    fig = plt.figure()\n",
      "    ax = fig.add_subplot(111)\n",
      "    #ax.set_title(title)\n",
      "    for ys,yerrs,algo in zip(means, errors, anames):\n",
      "        print title, algo, ys\n",
      "        xs = range(len(ys))\n",
      "        ax.errorbar(xs, ys, yerr=yerrs, linestyle=linestyles.next(), color=colors.next(), linewidth=3, elinewidth=1, markersize=10)\n",
      "    #ax.boxplot([it, st], vert=False, widths=.8)\n",
      "    ax.set_xlim(-margin,len(ys)-(1-margin))\n",
      "    ax.set_xticks(xs)\n",
      "    ax.set_xticklabels(xlabels)\n",
      "    ax.set_ylabel('\\% of damaged city')\n",
      "    ax.set_xlabel(xlabel)\n",
      "    #ax.set_title(title)\n",
      "    DefaultSize = fig.get_size_inches()\n",
      "    fig.set_size_inches(DefaultSize[0]*.75, DefaultSize[1]*.5)\n",
      "    fig.set_tight_layout(True)\n",
      "    name = graphs_path + '/' + title.replace(' ','-') + '.pdf'\n",
      "    plt.savefig(name)\n",
      "    plt.close()\n",
      "\n",
      "def legend(title, ncols=None):\n",
      "    linestyles = get_linestyles()\n",
      "    colors = get_colors()\n",
      "    fig = plt.figure()\n",
      "    figlegend = plt.figure(figsize=(10,2))\n",
      "    ax = fig.add_subplot(111)\n",
      "    lines = [ax.plot(range(10), np.random.random(10), linestyle=linestyles.next(), color=colors.next(), linewidth=3) for a in anames]\n",
      "    ncol = ncols if ncols is not None else len(anames)\n",
      "    legend = figlegend.legend(zip(*lines)[0], anames, loc='center', ncol=ncol)\n",
      "    plt.savefig(graphs_path + '/' + title + '-legend.pdf')\n",
      "    plt.close()"
     ],
     "language": "python",
     "metadata": {},
     "outputs": [],
     "prompt_number": 4
    },
    {
     "cell_type": "code",
     "collapsed": false,
     "input": [
      "def filtr(results, selectors):\n",
      "    r = {}\n",
      "    for s,v in results.items():\n",
      "        s = dict(s)\n",
      "        if not all(sv == s[ss] for ss,sv in selectors.items()):\n",
      "            continue\n",
      "        aname = algorithms[(s['agent.interteam'], s['main_solver'])]\n",
      "        r[aname] = v\n",
      "    return r\n",
      "\n",
      "def scores(results, key):\n",
      "    result = dict((a,[]) for a in anames)\n",
      "    for m in maps:\n",
      "        vs = filtr(results, {'map.scenario': m})\n",
      "        for a in anames:\n",
      "            result[a].append(vs[a][key])\n",
      "    return result\n",
      "\n",
      "xlabels = ['(40,25)', '(33,20)', '(27,15)', '(21,10)', '(15,5)']\n",
      "xlabel = 'Number of (Fire brigades, Police forces)'\n",
      "\n",
      "anames = ['Greedy', 'DSA', 'BMS']\n",
      "title = 'team'\n",
      "colors = [(0.35, 0.62, 0.87), (0, 0.67, 0.93), (0.17, 0.33, 0.64)]\n",
      "lines = ['--', ':', '-']\n",
      "for key in keys:\n",
      "    sc = scores(results, key)\n",
      "    plot(sc, title, xlabel, xlabels)\n",
      "    legend(title)\n",
      "\n",
      "anames = ['DSA', 'DSA (noteam)', 'BMS', 'BMS (noteam)']\n",
      "title = 'noteam'\n",
      "colors = [(0, 0.67, 0.93),(0, 0.67, 0.93),(0.17, 0.33, 0.64), (0.17, 0.33, 0.63)]\n",
      "lines = [':', '-.', '-', '--']\n",
      "for key in keys:\n",
      "    sc = scores(results, key)\n",
      "    plot(sc, title, xlabel, xlabels)\n",
      "    legend(title, ncols=2)\n",
      "    "
     ],
     "language": "python",
     "metadata": {},
     "outputs": [
      {
       "output_type": "stream",
       "stream": "stdout",
       "text": [
        "team Greedy [5.2871999766049376, 9.5561374264944217, 21.471353599305946, 46.041107926783191, 67.78139958522506]\n",
        "team DSA [2.9357485079555392, 6.8848811847649403, 12.754953782567272, 37.096787931072306, 59.811504887374696]\n",
        "team BMS [1.130315492161436, 1.5897596644758158, 5.2499981722607654, 14.642278410987881, 64.788542633845339]\n",
        "noteam"
       ]
      },
      {
       "output_type": "stream",
       "stream": "stdout",
       "text": [
        " DSA [2.9357485079555392, 6.8848811847649403, 12.754953782567272, 37.096787931072306, 59.811504887374696]\n",
        "noteam DSA (noteam) [2.7931882595779629, 11.797066965928506, 25.932948045903057, 55.848825982166133, 82.415646422626921]\n",
        "noteam BMS [1.130315492161436, 1.5897596644758158, 5.2499981722607654, 14.642278410987881, 64.788542633845339]\n",
        "noteam BMS (noteam) [1.9903988858101644, 9.350731826788806, 24.183338938400318, 57.40094213864986, 81.33138520700976]\n"
       ]
      }
     ],
     "prompt_number": 6
    },
    {
     "cell_type": "code",
     "collapsed": false,
     "input": [],
     "language": "python",
     "metadata": {},
     "outputs": [],
     "prompt_number": 13
    },
    {
     "cell_type": "code",
     "collapsed": false,
     "input": [],
     "language": "python",
     "metadata": {},
     "outputs": []
    }
   ],
   "metadata": {}
  }
 ]
}